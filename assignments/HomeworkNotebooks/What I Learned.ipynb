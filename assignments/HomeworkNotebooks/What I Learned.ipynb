{
 "cells": [
  {
   "cell_type": "markdown",
   "metadata": {},
   "source": [
    "# Module 1\n",
    "From module 1, I got a decent intro to statistics in science. My only background in \"stats\" before this class was prob/stats for engineers and it was a VERY basic class that focused 90% on probability. I had never heard of Degrees of Freedom, Variance, regression and to be honest, I wasn't entirely sure what standard deviation TRULY meant. After this module, I had a much better grasp on statistics and how it's used in science. I also was able to slightly grasp very basic python and I attempted to understand all the things we downloaded at the beginning of the semester and how they were all connected. It was not until later in the semester that I understood the flow between Anaconda, Python, Jupyter Notebooks, and GitHub. It was a lot to take in with a limited background in programming (although I had a basic introduction to programming from engineering but we mostly touched on C, C++, and SOME MatLab)...\n",
    "\n",
    "# Module 2\n",
    "\n",
    "Module 2 was interesting for me because I have had a \"Signals and Systems\" course in undergrad for electrical engineering. \"Fourier\" is a pretty familiar term to me and had been thrown around like a rag doll in engineering school. It wasn't until this module that I actually got a grasp on what it was for! I loved using the KNMI climate explorer and pulling in NetCDF files into notebooks and making figures with them! I finally understand the purpose of \"filtering\" data!\n",
    "\n",
    "# Module 3\n",
    "\n",
    "I have never heard of an EOF before IN MY LIFE. But this was an awesome module. I learned what an EOF was, why it was used, and how to do it myself! The \"EOF of a video\" Notebook was so much fun and I learned a lot from working with it! It definitely took a complicated topic and made it fun and easier to understand."
   ]
  },
  {
   "cell_type": "code",
   "execution_count": null,
   "metadata": {},
   "outputs": [],
   "source": []
  }
 ],
 "metadata": {
  "kernelspec": {
   "display_name": "Python 3",
   "language": "python",
   "name": "python3"
  },
  "language_info": {
   "codemirror_mode": {
    "name": "ipython",
    "version": 3
   },
   "file_extension": ".py",
   "mimetype": "text/x-python",
   "name": "python",
   "nbconvert_exporter": "python",
   "pygments_lexer": "ipython3",
   "version": "3.6.4"
  }
 },
 "nbformat": 4,
 "nbformat_minor": 2
}
