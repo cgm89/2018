{
 "cells": [
  {
   "cell_type": "markdown",
   "metadata": {},
   "source": [
    "# Assignment for Maximum Covariance Analysis\n",
    "### MPO 624 Spring 2018 Module 3\n",
    "### Carli Merrick\n",
    "#### 1.2 a.)"
   ]
  },
  {
   "cell_type": "code",
   "execution_count": 53,
   "metadata": {
    "collapsed": true
   },
   "outputs": [],
   "source": [
    "import numpy as np"
   ]
  },
  {
   "cell_type": "code",
   "execution_count": 57,
   "metadata": {},
   "outputs": [
    {
     "name": "stdout",
     "output_type": "stream",
     "text": [
      "Matrix= \n",
      " [[3 2]\n",
      " [6 1]\n",
      " [3 4]]\n"
     ]
    }
   ],
   "source": [
    "#Define matrix\n",
    "M=np.random.randint(10, size=(3,2)) #using integers btwn 0 and 10\n",
    "\n",
    "print('Matrix= \\n',M)"
   ]
  },
  {
   "cell_type": "code",
   "execution_count": 60,
   "metadata": {},
   "outputs": [
    {
     "name": "stdout",
     "output_type": "stream",
     "text": [
      "u= [[-0.43935182  0.12902478 -0.88900089]\n",
      " [-0.70759631 -0.65938709  0.25400025]\n",
      " [-0.55342338  0.74064922  0.38100038]]\n",
      "\n",
      "v= [[-0.88502227 -0.4655487 ]\n",
      " [-0.4655487   0.88502227]]\n",
      "\n",
      "s= [ 8.16239743  2.89400557]\n"
     ]
    }
   ],
   "source": [
    "u,s,v = np.linalg.svd(M);\n",
    "print ('u=',u);print('')\n",
    "print ('v=',v);print('')\n",
    "print ('s=',s)"
   ]
  },
  {
   "cell_type": "code",
   "execution_count": 59,
   "metadata": {},
   "outputs": [
    {
     "name": "stdout",
     "output_type": "stream",
     "text": [
      "Reconstructed matrix=\n",
      " [[ 3.  2.]\n",
      " [ 6.  1.]\n",
      " [ 3.  4.]]\n"
     ]
    }
   ],
   "source": [
    "#Reconstruct matrix\n",
    "SM=np.zeros([3,2])\n",
    "SM[0:2,0:2]=np.diag(s)\n",
    "RM=np.matmul(u,np.matmul(SM,v))\n",
    "print('Reconstructed matrix=\\n',RM)"
   ]
  },
  {
   "cell_type": "markdown",
   "metadata": {},
   "source": [
    "#### 1.2 b.)"
   ]
  },
  {
   "cell_type": "code",
   "execution_count": 61,
   "metadata": {},
   "outputs": [
    {
     "name": "stdout",
     "output_type": "stream",
     "text": [
      "Using cov function: \n",
      " [[  0.   0.]\n",
      " [  0.  18.]]\n",
      "\n",
      "Using DDT: \n",
      " [[  0.   0.]\n",
      " [  0.  18.]]\n",
      "\n",
      "SVD Reconstructed Matrix: \n",
      " [[  0.   0.]\n",
      " [  0.  18.]]\n"
     ]
    }
   ],
   "source": [
    "# 2x2\n",
    "M=np.random.randint(10, size=(2,2))\n",
    "covM=np.cov(M)\n",
    "print('Using cov function: \\n',covM);print('')\n",
    "\n",
    "M1=np.mean(M,1)\n",
    "M2=M-np.array([[M1[0]],[M1[1]]])\n",
    "print ('Using DDT: \\n',np.matmul(M2,M2.transpose()));print('')\n",
    "\n",
    "u,s,vt=np.linalg.svd(M2)\n",
    "SM=np.zeros([2,2])\n",
    "SM[0:2,0:2]=np.diag(s)\n",
    "T=np.matmul(u,SM);T1=np.matmul(SM.transpose(),u.transpose());\n",
    "RM1=np.matmul(T,T1)\n",
    "print('SVD Reconstructed Matrix: \\n',RM1)"
   ]
  },
  {
   "cell_type": "code",
   "execution_count": 62,
   "metadata": {},
   "outputs": [
    {
     "name": "stdout",
     "output_type": "stream",
     "text": [
      "Using cov function: \n",
      " [[ 9.33333333  2.         -5.66666667]\n",
      " [ 2.          4.         -3.        ]\n",
      " [-5.66666667 -3.          4.33333333]]\n",
      "\n",
      "Using DDT: \n",
      " [[ 18.66666667   4.         -11.33333333]\n",
      " [  4.           8.          -6.        ]\n",
      " [-11.33333333  -6.           8.66666667]]\n",
      "\n",
      "SVD reconstructed Matrix: \n",
      " [[ 18.66666667   4.         -11.33333333]\n",
      " [  4.           8.          -6.        ]\n",
      " [-11.33333333  -6.           8.66666667]]\n"
     ]
    }
   ],
   "source": [
    "# 3x3\n",
    "M=np.random.randint(10, size=(3,3))\n",
    "covM=np.cov(M)\n",
    "print('Using cov function: \\n',covM);print('')\n",
    "M1=np.mean(M,1)\n",
    "M2=M-np.array([[M1[0]],[M1[1]],[M1[2]]])\n",
    "print('Using DDT: \\n',np.matmul(M2,M2.transpose()));print('')\n",
    "\n",
    "u,s,vt=np.linalg.svd(M2)\n",
    "SM=np.zeros([3,3])\n",
    "SM[0:3,0:3]=np.diag(s)\n",
    "T=np.matmul(u,SM);T2=np.matmul(SM.transpose(),u.transpose());\n",
    "RM=np.matmul(T,T2)\n",
    "print('SVD reconstructed Matrix: \\n',RM)"
   ]
  },
  {
   "cell_type": "code",
   "execution_count": 63,
   "metadata": {},
   "outputs": [
    {
     "name": "stdout",
     "output_type": "stream",
     "text": [
      "cov matrix: \n",
      " [[ 9.33333333  2.         -5.66666667]\n",
      " [ 2.          4.         -3.        ]\n",
      " [-5.66666667 -3.          4.33333333]]\n"
     ]
    }
   ],
   "source": [
    "# covariance\n",
    "EVAL,EVEC=np.linalg.eig(covM);\n",
    "covRM=np.matmul(np.matmul(EVEC,np.diag(EVAL)),np.linalg.inv(EVEC))\n",
    "print('cov matrix: \\n',covRM)"
   ]
  },
  {
   "cell_type": "code",
   "execution_count": 67,
   "metadata": {
    "scrolled": true
   },
   "outputs": [
    {
     "name": "stdout",
     "output_type": "stream",
     "text": [
      "DTD: \n",
      " [[  4.88888889  -1.11111111  -3.77777778]\n",
      " [ -1.11111111  13.88888889 -12.77777778]\n",
      " [ -3.77777778 -12.77777778  16.55555556]]\n",
      "Cov matrix: \n",
      " [[  4.88888889  -1.11111111  -3.77777778]\n",
      " [ -1.11111111  13.88888889 -12.77777778]\n",
      " [ -3.77777778 -12.77777778  16.55555556]]\n"
     ]
    }
   ],
   "source": [
    "# DTD\n",
    "EVAL,EVEC=np.linalg.eig(np.matmul(M2.transpose(),M2));\n",
    "covRM=np.matmul(np.matmul(EVEC,np.diag(EVAL)),np.linalg.inv(EVEC))\n",
    "print ('DTD: \\n',np.matmul(M2.transpose(),M2))\n",
    "print('Cov matrix: \\n',covRM)"
   ]
  },
  {
   "cell_type": "markdown",
   "metadata": {},
   "source": [
    "#### In part b., the eigen method returned two matrices, in contrast to part a., in which the SVD decomposition returned three.\n",
    "\n",
    "#### Unlike the SVD, the eigen method can only be used with a square matrix because the eigenvalues are along the diagonal. Therefore, the eigen method would not be able to reconstruct the original 3x2 matrix but it works for the 2x2 and 3x3.\n",
    "\n",
    "#### Using the 2x2 matrix, the reconstruction using the cov function, DDT, and SVD are equivalent but with a 3x3 matrix, the DDT and SVD return as double the value of the covariance matrix because DDT must be multiplied by 1/N-1.\n",
    "\n",
    "#### The full data is reconstructed when using DTD instead of covariance."
   ]
  },
  {
   "cell_type": "code",
   "execution_count": null,
   "metadata": {
    "collapsed": true
   },
   "outputs": [],
   "source": []
  }
 ],
 "metadata": {
  "kernelspec": {
   "display_name": "Python 3",
   "language": "python",
   "name": "python3"
  },
  "language_info": {
   "codemirror_mode": {
    "name": "ipython",
    "version": 3
   },
   "file_extension": ".py",
   "mimetype": "text/x-python",
   "name": "python",
   "nbconvert_exporter": "python",
   "pygments_lexer": "ipython3",
   "version": "3.6.3"
  }
 },
 "nbformat": 4,
 "nbformat_minor": 2
}
